{
 "cells": [
  {
   "cell_type": "markdown",
   "metadata": {},
   "source": [
    "# Estimating Pi using Monte Carlo Simulation"
   ]
  },
  {
   "cell_type": "markdown",
   "metadata": {},
   "source": [
    "Welcome! \n",
    "\n",
    "Monte Carlo Simulation is easy to implement and understand, yet it could solve complex problems if it is set up correctly. \n",
    "\n",
    "The following notebook will walk you through the steps to build up a simulation to estimate the value of Pi. \n",
    "\n",
    "Imagine there is a 1m x 1m square field in front of you. As it rains later on, you are going to count how many drops fall inside the square field. If you can work out the ratio between the number of drops in the circule to the number of drops in the field but outside the circle, you could estimate the value of Pi. Look at the animation cell below if you are not sure about the concept. \n",
    "\n",
    "As it is difficult to count the drops in real life, it is much easier to do this in the virtual world. When we carry out an experiment virtually we call that a simulation, we could do this quite easily in Python. "
   ]
  },
  {
   "cell_type": "markdown",
   "metadata": {},
   "source": [
    "## Animation\n",
    "If you press ctrl - Enter on the following cell, there will be an animation of the rain drops simulation. It is also how you could execute the Python commands in a cell. "
   ]
  },
  {
   "cell_type": "code",
   "execution_count": null,
   "metadata": {},
   "outputs": [],
   "source": [
    "from IPython.display import Image \n",
    "Image(\"../img/animation.gif\")"
   ]
  },
  {
   "cell_type": "markdown",
   "metadata": {},
   "source": [
    "## Import Libraries\n",
    "Firstly, we need to import all the Python libraries we will need later on. We will need random to generate some random rain drops for us and matplotlib as the visualisation tool. Import those libraries as follow. "
   ]
  },
  {
   "cell_type": "code",
   "execution_count": null,
   "metadata": {},
   "outputs": [],
   "source": [
    "# Step 1\n",
    "# Import all the libraries we will need\n",
    "from random import random\n",
    "import matplotlib.pyplot as plt\n",
    "from Estimate_pi import plot_rain_drops_matplotlib"
   ]
  },
  {
   "cell_type": "markdown",
   "metadata": {},
   "source": [
    "## Create a random rain drop \n",
    "You will need to build a function rain_drop that returns a random rain drop with the coordinate [x,y] such that -0.5 < x,y < 0.5. Return the coordinate as a list. "
   ]
  },
  {
   "cell_type": "code",
   "execution_count": null,
   "metadata": {},
   "outputs": [],
   "source": [
    "# Step 2\n",
    "# Build a function that initiate a random rain drop\n",
    "\n",
    "def rain_drop(length_of_field=1):\n",
    "    \"\"\"\n",
    "    Simulate a random rain drop\n",
    "    \"\"\"\n",
    "    # random() returns number in the range [0.0, 1.0], however we will need a number in the range [-0.5, 0.5]\n",
    "    # What shall we do? \n",
    "    #\n",
    "    # Put your code here\n",
    "    #\n",
    "    return []"
   ]
  },
  {
   "cell_type": "markdown",
   "metadata": {},
   "source": [
    "Test if the function rain_drop works as expected in the cell below. Does it print out (x,y) within the range? "
   ]
  },
  {
   "cell_type": "code",
   "execution_count": null,
   "metadata": {},
   "outputs": [],
   "source": [
    "print(rain_drop())"
   ]
  },
  {
   "cell_type": "markdown",
   "metadata": {},
   "source": [
    "## Check where is the rain drop\n",
    "Build a function is_point_in_circle to check if a given point is in inscribed circule. It should return True if the point is within the length of field, and False if it is outside of the length of field. For example, is_point_in_circle will return True for point (0,0), (0.5,0) and (0,-0.5) while False for the point (1,0). "
   ]
  },
  {
   "cell_type": "code",
   "execution_count": null,
   "metadata": {},
   "outputs": [],
   "source": [
    "# Step 3\n",
    "# Build a function to check if the point is in inscribed circle\n",
    "\n",
    "def is_point_in_circle(point, length_of_field=1):\n",
    "    \"\"\"\n",
    "    Return True if point is in inscribed circle\n",
    "    \"\"\"\n",
    "    \n",
    "    # a ** 2 + b ** 2 = c ** 2\n",
    "    # If a ** 2 + b ** 2 < c ** 2, it means (a,b) is in inscribed circle. \n",
    "    # (1,1) - False\n",
    "    # (0.5,0) - True\n",
    "    #\n",
    "    # Put your code here\n",
    "    #\n",
    "    return []"
   ]
  },
  {
   "cell_type": "markdown",
   "metadata": {},
   "source": [
    "Test if the function is_point_in_circle works as expected in the cell below. It should retrun False from the first line, True from the second and third line. "
   ]
  },
  {
   "cell_type": "code",
   "execution_count": null,
   "metadata": {},
   "outputs": [],
   "source": [
    "print(is_point_in_circle((1,1))) # False\n",
    "print(is_point_in_circle((0.5,0))) # True\n",
    "print(is_point_in_circle((0,0.5))) # True"
   ]
  },
  {
   "cell_type": "markdown",
   "metadata": {},
   "source": [
    "## Setting up the rain \n",
    "A monsoon consists of more than one rain drop. Ideally, we want control over if it is a light rain or a monsoon, so we will need to define the number of drops of rain as an argument. We may vary the number of drops in the future. The default values for those argument have been set as follow. "
   ]
  },
  {
   "cell_type": "code",
   "execution_count": null,
   "metadata": {},
   "outputs": [],
   "source": [
    "# Step 4\n",
    "# Build a function to start the simulation \n",
    "\n",
    "def rain(number_of_drops=1000, vis='Web',length_of_field=1, plot=True, format='pdf', dynamic=0):\n",
    "    \"\"\"\n",
    "    Function to make rain drops.\n",
    "    \"\"\"\n",
    "    # Initialise variables\n",
    "    number_of_drops_in_circle = 0\n",
    "    drops_in_circle = []\n",
    "    drops_out_of_circle = []\n",
    "    pi_estimate = []\n",
    "    \n",
    "    # Set up for loop to iternate from n = 0 to n = number_of_drops\n",
    "    for k in range(): # What shall we put here?  \n",
    "        \n",
    "        # Assign one rain drop to variable d\n",
    "        # Put your code here\n",
    "        #\n",
    "        \n",
    "        if is_point_in_circle(d, length_of_field):\n",
    "            drops_in_circle.append(d)\n",
    "            #\n",
    "            # Increase number_of_drops_in_circle by 1\n",
    "            # Put your code here\n",
    "            #\n",
    "            \n",
    "        else:\n",
    "            drops_out_of_circle.append(d)\n",
    "        \n",
    "        # Keep track of pi_estimate by appending the value to the list.  \n",
    "        pi_estimate.append(4 * number_of_drops_in_circle / (k + 1))  \n",
    "    \n",
    "    return [number_of_drops_in_circle, number_of_drops, drops_in_circle, drops_out_of_circle, pi_estimate]"
   ]
  },
  {
   "cell_type": "markdown",
   "metadata": {},
   "source": [
    "## Start the simulation \n",
    "\n",
    "We have done all the hard work setting up all the necessary functions, now we can finally start the rain."
   ]
  },
  {
   "cell_type": "code",
   "execution_count": null,
   "metadata": {},
   "outputs": [],
   "source": [
    "# Step 5\n",
    "# Call the function rain with arguments\n",
    "\n",
    "# Define the the number of rain drops as number_of_drops\n",
    "# Put your code here\n",
    "#\n",
    "\n",
    "visualisation = 'web'\n",
    "Result = rain(number_of_drops, vis=visualisation, plot=True, format='png', dynamic=0, )\n",
    "\n",
    "number_of_drops_in_circle = Result[0]\n",
    "number_of_drops = Result[1]\n",
    "drops_in_circle = Result[2]\n",
    "drops_out_of_circle = Result[3]\n",
    "pi_estimate = Result[4]\n",
    "\n",
    "print(Result[0], Result[1])"
   ]
  },
  {
   "cell_type": "markdown",
   "metadata": {},
   "source": [
    "What is the value of Pi from the simulation? Check the result at the cel below. Is that anywhere close to the real value of Pi? Why and why not? "
   ]
  },
  {
   "cell_type": "code",
   "execution_count": null,
   "metadata": {},
   "outputs": [],
   "source": [
    "# Step 6 \n",
    "# Compute the value of pi\n",
    "\n",
    "print('Pi estimated to be',4 * Result[0] / Result[1])"
   ]
  },
  {
   "cell_type": "markdown",
   "metadata": {},
   "source": [
    "## Visualisation\n",
    "\n",
    "Use the library matplotlib to visualise all the rain drops by passing in the relevant arguments to the function plot_rain_drops_matplotlib"
   ]
  },
  {
   "cell_type": "code",
   "execution_count": null,
   "metadata": {},
   "outputs": [],
   "source": [
    "# Step 7 \n",
    "# Visualisation - Let's double check what is the rain drops look like, the best way would be to visulise it\n",
    "\n",
    "plot_rain_drops_matplotlib(drops_in_circle, drops_out_of_circle, 1, 'jpg')"
   ]
  }
 ],
 "metadata": {
  "kernelspec": {
   "display_name": "Python 3",
   "language": "python",
   "name": "python3"
  },
  "language_info": {
   "codemirror_mode": {
    "name": "ipython",
    "version": 3
   },
   "file_extension": ".py",
   "mimetype": "text/x-python",
   "name": "python",
   "nbconvert_exporter": "python",
   "pygments_lexer": "ipython3",
   "version": "3.7.5"
  }
 },
 "nbformat": 4,
 "nbformat_minor": 2
}
