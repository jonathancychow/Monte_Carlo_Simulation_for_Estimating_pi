{
 "cells": [
  {
   "cell_type": "markdown",
   "metadata": {},
   "source": [
    "# Estimating Pi using Monte Carlo Simulation"
   ]
  },
  {
   "cell_type": "markdown",
   "metadata": {},
   "source": [
    "Welcome! The following notebook will walk you through the steps to build up a simulation to estimate the value of Pi. \n",
    "\n",
    "Script to simulate rain in a square field. Counting the number of rain drops in the inscribed circle of radius equal to the length of the field. The ratio of the number of drops in the circle to the total number of drops gives Pi.\n",
    "\n",
    "Insert gif / png here"
   ]
  },
  {
   "cell_type": "markdown",
   "metadata": {},
   "source": [
    "## Setting Up Function"
   ]
  },
  {
   "cell_type": "markdown",
   "metadata": {},
   "source": [
    "We will need to first import all the python libraries we will need later on. We will need random to generate some random rain drops for us, matplotlib as the visualisation tool. "
   ]
  },
  {
   "cell_type": "code",
   "execution_count": 41,
   "metadata": {},
   "outputs": [],
   "source": [
    "# Step 1\n",
    "# Import all the libraries we will need\n",
    "from random import random\n",
    "import matplotlib.pyplot as plt"
   ]
  },
  {
   "cell_type": "markdown",
   "metadata": {},
   "source": [
    "You will need to build a function rain_drop that returns a random rain drop with the coordinate (x,y) such that -0.5 < x,y < 0.5. "
   ]
  },
  {
   "cell_type": "code",
   "execution_count": 33,
   "metadata": {},
   "outputs": [],
   "source": [
    "# Step 2\n",
    "# Build a function that initiate a random rain drop\n",
    "\n",
    "def rain_drop(length_of_field=1):\n",
    "    \"\"\"\n",
    "    Simulate a random rain drop\n",
    "    \"\"\"\n",
    "    return [(.5 - random()) * length_of_field, (.5 - random()) * length_of_field]"
   ]
  },
  {
   "cell_type": "markdown",
   "metadata": {},
   "source": [
    "Test if the function rain_drop works as expected in the cell below."
   ]
  },
  {
   "cell_type": "code",
   "execution_count": 44,
   "metadata": {},
   "outputs": [
    {
     "name": "stdout",
     "output_type": "stream",
     "text": [
      "[-0.01321944303471323, 0.12856202852727439]\n"
     ]
    }
   ],
   "source": [
    "print(rain_drop())"
   ]
  },
  {
   "cell_type": "markdown",
   "metadata": {},
   "source": [
    "Build a function is_point_in_circle to check if a given point is in inscribed circule. Return\n"
   ]
  },
  {
   "cell_type": "code",
   "execution_count": 34,
   "metadata": {},
   "outputs": [],
   "source": [
    "# Step 3\n",
    "# Build a function to check if the point is in inscribed circle\n",
    "\n",
    "def is_point_in_circle(point, length_of_field=1):\n",
    "    \"\"\"\n",
    "    Return True if point is in inscribed circle\n",
    "    \"\"\"\n",
    "    return (point[0]) ** 2 + (point[1]) ** 2 <= (length_of_field / 2) ** 2"
   ]
  },
  {
   "cell_type": "markdown",
   "metadata": {},
   "source": [
    "Test if the function is_point_in_circle works as expected in the cell below. It should retrun False from the first line, True from the second and third line. "
   ]
  },
  {
   "cell_type": "code",
   "execution_count": 50,
   "metadata": {},
   "outputs": [
    {
     "name": "stdout",
     "output_type": "stream",
     "text": [
      "False\n",
      "True\n",
      "True\n"
     ]
    }
   ],
   "source": [
    "print(is_point_in_circle((1,1))) # False\n",
    "print(is_point_in_circle((0.5,0))) # True\n",
    "print(is_point_in_circle((0,0.5))) # True"
   ]
  },
  {
   "cell_type": "code",
   "execution_count": 35,
   "metadata": {},
   "outputs": [],
   "source": [
    "# Step 4\n",
    "# Build a function to start the simulation \n",
    "\n",
    "def rain(number_of_drops=1000, vis='Web',length_of_field=1, plot=True, format='pdf', dynamic=0):\n",
    "    \"\"\"\n",
    "    Function to make rain drops.\n",
    "    \"\"\"\n",
    "    number_of_drops_in_circle = 0\n",
    "    drops_in_circle = []\n",
    "    drops_out_of_circle = []\n",
    "    pi_estimate = []\n",
    "    for k in range(number_of_drops):\n",
    "        d = (rain_drop(length_of_field))\n",
    "        if is_point_in_circle(d, length_of_field):\n",
    "            drops_in_circle.append(d)\n",
    "            number_of_drops_in_circle += 1\n",
    "        else:\n",
    "            drops_out_of_circle.append(d)\n",
    "        \n",
    "        pi_estimate.append(4 * number_of_drops_in_circle / (k + 1))  # This updates the list with the newest estimate for pi.\n",
    "    \n",
    "    return [number_of_drops_in_circle, number_of_drops, drops_in_circle, drops_out_of_circle, pi_estimate]"
   ]
  },
  {
   "cell_type": "code",
   "execution_count": 36,
   "metadata": {},
   "outputs": [],
   "source": [
    "def plot_rain_drops_matplotlib(drops_in_circle, drops_out_of_circle, length_of_field=1, format='pdf'):\n",
    "    \"\"\" Function to draw rain drops \"\"\"\n",
    "    number_of_drops_in_circle = len(drops_in_circle)\n",
    "    number_of_drops_out_of_circle = len(drops_out_of_circle)\n",
    "    number_of_drops = number_of_drops_in_circle + number_of_drops_out_of_circle\n",
    "    plt.figure()\n",
    "    plt.xlim(-length_of_field / 2, length_of_field / 2)\n",
    "    plt.ylim(-length_of_field / 2, length_of_field / 2)\n",
    "    plt.scatter([e[0] for e in drops_in_circle], [e[1] for e in drops_in_circle], color='blue', label=\"Drops in circle\")\n",
    "    plt.scatter([e[0] for e in drops_out_of_circle], [e[1] for e in drops_out_of_circle], color='black', label=\"Drops out of circle\")\n",
    "    plt.legend(loc=\"center\")\n",
    "    plt.title(\"%s drops: %s landed in circle, estimating $\\pi$ as %.4f.\" % (number_of_drops, number_of_drops_in_circle, 4 * number_of_drops_in_circle / number_of_drops))\n",
    "    plt.savefig(\"%s_drops.%s\" % (number_of_drops, format))\n"
   ]
  },
  {
   "cell_type": "markdown",
   "metadata": {},
   "source": [
    "## Start the simulation \n",
    "\n",
    "We have done all the hard work setting up all the necessary functions, now we can start the simulation by starting the rain."
   ]
  },
  {
   "cell_type": "code",
   "execution_count": 37,
   "metadata": {},
   "outputs": [
    {
     "name": "stdout",
     "output_type": "stream",
     "text": [
      "78 100\n"
     ]
    }
   ],
   "source": [
    "# Step 5\n",
    "# Call the function rain with arguments\n",
    "\n",
    "number_of_drops = 100\n",
    "visualisation = 'web'\n",
    "Result = rain(number_of_drops, vis=visualisation, plot=True, format='png', dynamic=0, )\n",
    "\n",
    "Result[0] = number_of_drops_in_circle\n",
    "Result[1] = number_of_drops \n",
    "Result[2] = drops_in_circle\n",
    "Result[3] = drops_out_of_circle\n",
    "Result[4] = pi_estimate\n",
    "\n",
    "print(Result[0], Result[1])"
   ]
  },
  {
   "cell_type": "code",
   "execution_count": 38,
   "metadata": {},
   "outputs": [
    {
     "name": "stdout",
     "output_type": "stream",
     "text": [
      "Pi estimated to be 3.16\n"
     ]
    }
   ],
   "source": [
    "# Step 6 \n",
    "# Compute the value of pi\n",
    "\n",
    "print('Pi estimated to be',4 * r[0] / r[1])\n",
    "# This bit is a bit complicated, we're passing the output of a function directly into another function. \n",
    "# It may sound weird but it's no different than putting a variable in as an argument.\n"
   ]
  },
  {
   "cell_type": "code",
   "execution_count": 39,
   "metadata": {},
   "outputs": [
    {
     "data": {
      "image/png": "[encoded data removed]",
      "text/plain": [
       "<Figure size 432x288 with 1 Axes>"
      ]
     },
     "metadata": {
      "needs_background": "light"
     },
     "output_type": "display_data"
    }
   ],
   "source": [
    "# Step 7 \n",
    "# Visualisation - Let's double check what is the rain drops look like, the best way would be to visulise it\n",
    "\n",
    "plot_rain_drops_matplotlib(drops_in_circle, drops_out_of_circle, 1, 'jpg')"
   ]
  },
  {
   "cell_type": "code",
   "execution_count": null,
   "metadata": {},
   "outputs": [],
   "source": []
  }
 ],
 "metadata": {
  "kernelspec": {
   "display_name": "Python 3",
   "language": "python",
   "name": "python3"
  },
  "language_info": {
   "codemirror_mode": {
    "name": "ipython",
    "version": 3
   },
   "file_extension": ".py",
   "mimetype": "text/x-python",
   "name": "python",
   "nbconvert_exporter": "python",
   "pygments_lexer": "ipython3",
   "version": "3.7.5"
  }
 },
 "nbformat": 4,
 "nbformat_minor": 2
}
